{
 "cells": [
  {
   "cell_type": "markdown",
   "metadata": {},
   "source": [
    "4. Receba do usuário a quantidade de litros de combustível consumidos e a distância percorrida. Calcule e imprima o consumo médio em km/l."
   ]
  },
  {
   "cell_type": "code",
   "execution_count": 1,
   "metadata": {},
   "outputs": [
    {
     "name": "stdout",
     "output_type": "stream",
     "text": [
      "O consumo médio do seu veículo é de 34.44 km/l.\n"
     ]
    }
   ],
   "source": [
    "# Resolução\n",
    "\n",
    "litros = float(input('Informe a quantidade de litros abastecido: '))\n",
    "distancia_percorrida = float(input('Informe a distância percorrida: '))\n",
    "\n",
    "consumo_medio = distancia_percorrida / litros\n",
    "\n",
    "print(f'O consumo médio do seu veículo é de {consumo_medio:.2f} km/l.')"
   ]
  }
 ],
 "metadata": {
  "kernelspec": {
   "display_name": "Python 3",
   "language": "python",
   "name": "python3"
  },
  "language_info": {
   "codemirror_mode": {
    "name": "ipython",
    "version": 3
   },
   "file_extension": ".py",
   "mimetype": "text/x-python",
   "name": "python",
   "nbconvert_exporter": "python",
   "pygments_lexer": "ipython3",
   "version": "3.12.1"
  }
 },
 "nbformat": 4,
 "nbformat_minor": 2
}
