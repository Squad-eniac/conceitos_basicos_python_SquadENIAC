{
 "cells": [
  {
   "cell_type": "markdown",
   "metadata": {},
   "source": [
    "4. Receba do usuário a quantidade de litros de combustível consumidos e a distância percorrida. Calcule e imprima o consumo médio em km/l."
   ]
  },
  {
   "cell_type": "code",
   "execution_count": 4,
   "metadata": {},
   "outputs": [
    {
     "name": "stdout",
     "output_type": "stream",
     "text": [
      "O consumo médio do seu veículo é de 33.33 km/l.\n"
     ]
    }
   ],
   "source": [
    "# Resolução\n",
    "\n",
    "litros = float(input('Informe a quantidade de litros abastecido: '))\n",
    "distancia_percorrida = float(input('Informe a distância percorrida: '))\n",
    "\n",
    "consumo_medio = distancia_percorrida / litros\n",
    "\n",
    "print(f'O consumo médio do seu veículo é de {consumo_medio:.2f} km/l.')"
   ]
  }
 ],
 "metadata": {
  "language_info": {
   "name": "python"
  }
 },
 "nbformat": 4,
 "nbformat_minor": 2
}
